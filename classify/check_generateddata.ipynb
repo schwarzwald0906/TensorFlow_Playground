{
 "cells": [
  {
   "cell_type": "code",
   "execution_count": 2,
   "id": "d87e4427",
   "metadata": {},
   "outputs": [],
   "source": [
    "from PIL import Image\n",
    "import os, glob\n",
    "import numpy as np\n",
    "from sklearn.model_selection import train_test_split\n",
    "\n",
    "classes = [\"monkey\", \"boar\", \"crow\"]\n",
    "num_classes = len(classes)\n",
    "image_size = 50\n",
    "\n",
    "X = []\n",
    "Y = []\n",
    "for index, cls in enumerate(classes):\n",
    "    photos_dir = \"./\" + cls\n",
    "    files = glob.glob(photos_dir + \"/*.jpg\")\n",
    "    for i, file in enumerate(files):\n",
    "        if i >= 200:\n",
    "            break\n",
    "        image = Image.open(file)\n",
    "        image = image.convert(\"RGB\")\n",
    "        image = image.resize((image_size, image_size))\n",
    "        data = np.asarray(image)\n",
    "        X.append(data)\n",
    "        Y.append(index)\n",
    "\n",
    "X = np.array(X)\n",
    "Y = np.array(Y)\n",
    "\n"
   ]
  },
  {
   "cell_type": "code",
   "execution_count": 3,
   "id": "844d3005",
   "metadata": {},
   "outputs": [
    {
     "data": {
      "text/plain": [
       "array([[[ 36,  35,  17],\n",
       "        [ 36,  37,  19],\n",
       "        [ 45,  50,  24],\n",
       "        ...,\n",
       "        [ 23,  47,  11],\n",
       "        [ 24,  48,  12],\n",
       "        [ 27,  52,  13]],\n",
       "\n",
       "       [[ 34,  32,  17],\n",
       "        [ 32,  33,  16],\n",
       "        [ 44,  47,  23],\n",
       "        ...,\n",
       "        [ 21,  47,  10],\n",
       "        [ 24,  48,  12],\n",
       "        [ 28,  53,  14]],\n",
       "\n",
       "       [[ 36,  36,  17],\n",
       "        [ 33,  34,  15],\n",
       "        [ 44,  45,  18],\n",
       "        ...,\n",
       "        [ 25,  48,  16],\n",
       "        [ 30,  52,  16],\n",
       "        [ 32,  56,  17]],\n",
       "\n",
       "       ...,\n",
       "\n",
       "       [[107,  96,  74],\n",
       "        [112, 100,  75],\n",
       "        [119, 108,  83],\n",
       "        ...,\n",
       "        [ 48,  61,  40],\n",
       "        [ 43,  52,  36],\n",
       "        [ 37,  46,  30]],\n",
       "\n",
       "       [[109,  96,  70],\n",
       "        [114, 101,  77],\n",
       "        [118, 108,  86],\n",
       "        ...,\n",
       "        [ 54,  68,  44],\n",
       "        [ 48,  60,  38],\n",
       "        [ 39,  50,  30]],\n",
       "\n",
       "       [[106,  94,  67],\n",
       "        [113, 101,  76],\n",
       "        [118, 109,  88],\n",
       "        ...,\n",
       "        [ 56,  68,  44],\n",
       "        [ 51,  64,  40],\n",
       "        [ 43,  56,  34]]], dtype=uint8)"
      ]
     },
     "execution_count": 3,
     "metadata": {},
     "output_type": "execute_result"
    }
   ],
   "source": [
    "X[0]"
   ]
  },
  {
   "cell_type": "code",
   "execution_count": 4,
   "id": "5fbb85a1",
   "metadata": {},
   "outputs": [
    {
     "data": {
      "text/plain": [
       "600"
      ]
     },
     "execution_count": 4,
     "metadata": {},
     "output_type": "execute_result"
    }
   ],
   "source": [
    "len(X)"
   ]
  },
  {
   "cell_type": "code",
   "execution_count": 5,
   "id": "bcad1422",
   "metadata": {},
   "outputs": [
    {
     "data": {
      "text/plain": [
       "0"
      ]
     },
     "execution_count": 5,
     "metadata": {},
     "output_type": "execute_result"
    }
   ],
   "source": [
    "Y[100]"
   ]
  },
  {
   "cell_type": "code",
   "execution_count": null,
   "id": "49458701",
   "metadata": {},
   "outputs": [],
   "source": []
  }
 ],
 "metadata": {
  "kernelspec": {
   "display_name": "Python 3 (ipykernel)",
   "language": "python",
   "name": "python3"
  },
  "language_info": {
   "codemirror_mode": {
    "name": "ipython",
    "version": 3
   },
   "file_extension": ".py",
   "mimetype": "text/x-python",
   "name": "python",
   "nbconvert_exporter": "python",
   "pygments_lexer": "ipython3",
   "version": "3.10.9"
  }
 },
 "nbformat": 4,
 "nbformat_minor": 5
}
