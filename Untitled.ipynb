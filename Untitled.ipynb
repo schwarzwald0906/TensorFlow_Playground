{
 "cells": [
  {
   "cell_type": "code",
   "execution_count": 1,
   "id": "a78e3a1c",
   "metadata": {},
   "outputs": [],
   "source": [
    "from PIL import Image\n",
    "import os, glob\n",
    "import numpy as np\n",
    "from sklearn import model_selection\n",
    "\n",
    "classes = [\"monkey\", \"boar\", \"crow\"]\n",
    "num_classes = len(classes)\n",
    "image_size = 50\n",
    "\n",
    "X = []\n",
    "Y = []\n",
    "for index, cls in enumerate(classes):\n",
    "    photos_dir = \"./\" + cls\n",
    "    files = glob.glob(photos_dir + \"/*.jpg\")\n",
    "    for i, file in enumerate(files):\n",
    "        if i >= 200:\n",
    "            break\n",
    "        image = Image.open(file)\n",
    "        image = image.convert(\"RGB\")\n",
    "        image = image.resize((image_size, image_size))\n",
    "        data = np.asarray(image).astype(np.float32)\n",
    "        X.append(data)\n",
    "        Y.append(index)\n",
    "\n",
    "X = np.array(X)\n",
    "Y = np.array(Y)\n",
    "\n",
    "x_train, x_test, y_train, y_test = model_selection.train_test_split(X, Y)\n",
    "np.save(\"./x_train.npy\", x_train)\n",
    "np.save(\"./x_test.npy\", x_test)\n",
    "np.save(\"./y_train.npy\", y_train)\n",
    "np.save(\"./y_test.npy\", y_test)"
   ]
  },
  {
   "cell_type": "code",
   "execution_count": 2,
   "id": "c0f7b0b9",
   "metadata": {},
   "outputs": [
    {
     "data": {
      "text/plain": [
       "450"
      ]
     },
     "execution_count": 2,
     "metadata": {},
     "output_type": "execute_result"
    }
   ],
   "source": [
    "len(x_train)"
   ]
  },
  {
   "cell_type": "code",
   "execution_count": 3,
   "id": "1d1ab8e0",
   "metadata": {},
   "outputs": [
    {
     "data": {
      "text/plain": [
       "150"
      ]
     },
     "execution_count": 3,
     "metadata": {},
     "output_type": "execute_result"
    }
   ],
   "source": [
    "len(x_test)"
   ]
  },
  {
   "cell_type": "code",
   "execution_count": 4,
   "id": "7fbac157",
   "metadata": {},
   "outputs": [
    {
     "data": {
      "text/plain": [
       "450"
      ]
     },
     "execution_count": 4,
     "metadata": {},
     "output_type": "execute_result"
    }
   ],
   "source": [
    "len(y_train)"
   ]
  },
  {
   "cell_type": "code",
   "execution_count": 5,
   "id": "f2e661cf",
   "metadata": {},
   "outputs": [
    {
     "data": {
      "text/plain": [
       "150"
      ]
     },
     "execution_count": 5,
     "metadata": {},
     "output_type": "execute_result"
    }
   ],
   "source": [
    "len(y_test)"
   ]
  },
  {
   "cell_type": "code",
   "execution_count": 6,
   "id": "885d0ffe",
   "metadata": {},
   "outputs": [
    {
     "data": {
      "text/plain": [
       "array([[[ 30.,  37.,  30.],\n",
       "        [ 27.,  34.,  27.],\n",
       "        [ 23.,  31.,  24.],\n",
       "        ...,\n",
       "        [156., 223., 214.],\n",
       "        [158., 222., 214.],\n",
       "        [157., 224., 216.]],\n",
       "\n",
       "       [[ 22.,  29.,  22.],\n",
       "        [ 22.,  29.,  22.],\n",
       "        [ 22.,  30.,  23.],\n",
       "        ...,\n",
       "        [153., 224., 214.],\n",
       "        [159., 227., 221.],\n",
       "        [158., 229., 222.]],\n",
       "\n",
       "       [[ 22.,  28.,  22.],\n",
       "        [ 24.,  30.,  24.],\n",
       "        [ 25.,  32.,  26.],\n",
       "        ...,\n",
       "        [155., 224., 216.],\n",
       "        [157., 229., 222.],\n",
       "        [158., 229., 223.]],\n",
       "\n",
       "       ...,\n",
       "\n",
       "       [[215., 212., 194.],\n",
       "        [215., 212., 194.],\n",
       "        [215., 212., 195.],\n",
       "        ...,\n",
       "        [110., 169., 219.],\n",
       "        [140., 200., 230.],\n",
       "        [163., 218., 246.]],\n",
       "\n",
       "       [[214., 211., 194.],\n",
       "        [216., 213., 196.],\n",
       "        [216., 213., 194.],\n",
       "        ...,\n",
       "        [120., 164., 202.],\n",
       "        [147., 195., 219.],\n",
       "        [145., 195., 222.]],\n",
       "\n",
       "       [[211., 208., 191.],\n",
       "        [214., 211., 194.],\n",
       "        [215., 212., 195.],\n",
       "        ...,\n",
       "        [105., 142., 178.],\n",
       "        [127., 168., 195.],\n",
       "        [127., 171., 199.]]], dtype=float32)"
      ]
     },
     "execution_count": 6,
     "metadata": {},
     "output_type": "execute_result"
    }
   ],
   "source": [
    "x_train[100]"
   ]
  },
  {
   "cell_type": "code",
   "execution_count": 7,
   "id": "d50c820f",
   "metadata": {},
   "outputs": [
    {
     "data": {
      "text/plain": [
       "2"
      ]
     },
     "execution_count": 7,
     "metadata": {},
     "output_type": "execute_result"
    }
   ],
   "source": [
    "y_train[100]"
   ]
  },
  {
   "cell_type": "code",
   "execution_count": 8,
   "id": "a91418f2",
   "metadata": {},
   "outputs": [
    {
     "ename": "IndexError",
     "evalue": "tuple index out of range",
     "output_type": "error",
     "traceback": [
      "\u001b[0;31m---------------------------------------------------------------------------\u001b[0m",
      "\u001b[0;31mIndexError\u001b[0m                                Traceback (most recent call last)",
      "Cell \u001b[0;32mIn[8], line 1\u001b[0m\n\u001b[0;32m----> 1\u001b[0m \u001b[43mx_train\u001b[49m\u001b[38;5;241;43m.\u001b[39;49m\u001b[43mshape\u001b[49m\u001b[43m[\u001b[49m\u001b[38;5;241;43m100\u001b[39;49m\u001b[43m]\u001b[49m\n",
      "\u001b[0;31mIndexError\u001b[0m: tuple index out of range"
     ]
    }
   ],
   "source": [
    "x_train.shape[100]"
   ]
  },
  {
   "cell_type": "code",
   "execution_count": 9,
   "id": "772aff19",
   "metadata": {},
   "outputs": [
    {
     "ename": "SyntaxError",
     "evalue": "invalid syntax (2745135305.py, line 1)",
     "output_type": "error",
     "traceback": [
      "\u001b[0;36m  Cell \u001b[0;32mIn[9], line 1\u001b[0;36m\u001b[0m\n\u001b[0;31m    x_train.shape[]\u001b[0m\n\u001b[0m                  ^\u001b[0m\n\u001b[0;31mSyntaxError\u001b[0m\u001b[0;31m:\u001b[0m invalid syntax\n"
     ]
    }
   ],
   "source": [
    "x_train.shape[]"
   ]
  },
  {
   "cell_type": "code",
   "execution_count": 10,
   "id": "b21c4d57",
   "metadata": {},
   "outputs": [
    {
     "data": {
      "text/plain": [
       "(450, 50, 50, 3)"
      ]
     },
     "execution_count": 10,
     "metadata": {},
     "output_type": "execute_result"
    }
   ],
   "source": [
    "x_train.shape"
   ]
  },
  {
   "cell_type": "code",
   "execution_count": 11,
   "id": "6b5b1294",
   "metadata": {},
   "outputs": [
    {
     "data": {
      "text/plain": [
       "(50, 50, 3)"
      ]
     },
     "execution_count": 11,
     "metadata": {},
     "output_type": "execute_result"
    }
   ],
   "source": [
    "x_train.shape[1:]"
   ]
  },
  {
   "cell_type": "code",
   "execution_count": null,
   "id": "abd5daf4",
   "metadata": {},
   "outputs": [],
   "source": [
    "    "
   ]
  }
 ],
 "metadata": {
  "kernelspec": {
   "display_name": "Python 3 (ipykernel)",
   "language": "python",
   "name": "python3"
  },
  "language_info": {
   "codemirror_mode": {
    "name": "ipython",
    "version": 3
   },
   "file_extension": ".py",
   "mimetype": "text/x-python",
   "name": "python",
   "nbconvert_exporter": "python",
   "pygments_lexer": "ipython3",
   "version": "3.10.9"
  }
 },
 "nbformat": 4,
 "nbformat_minor": 5
}
